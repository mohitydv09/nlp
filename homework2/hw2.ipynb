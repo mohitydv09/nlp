{
 "cells": [
  {
   "cell_type": "code",
   "execution_count": 1,
   "metadata": {},
   "outputs": [],
   "source": [
    "## Import packages\n",
    "import torch\n",
    "import time\n",
    "import wandb\n",
    "from tqdm import tqdm\n",
    "\n",
    "from datasets import load_dataset\n",
    "from transformers import AutoTokenizer\n",
    "from transformers import DataCollatorWithPadding\n",
    "from transformers import Trainer, TrainingArguments\n",
    "from transformers import AutoModelForSequenceClassification"
   ]
  },
  {
   "cell_type": "code",
   "execution_count": 2,
   "metadata": {},
   "outputs": [
    {
     "name": "stdout",
     "output_type": "stream",
     "text": [
      "Device:  cuda\n"
     ]
    }
   ],
   "source": [
    "## Set the device to train your model.\n",
    "if torch.backends.mps.is_available():\n",
    "    device = torch.device('mps')\n",
    "elif torch.cuda.is_available():\n",
    "    device = torch.device('cuda')\n",
    "else:\n",
    "    device = torch.device('cpu')\n",
    "print(\"Device: \", device)"
   ]
  },
  {
   "cell_type": "code",
   "execution_count": 3,
   "metadata": {},
   "outputs": [
    {
     "data": {
      "text/plain": [
       "DatasetDict({\n",
       "    train: Dataset({\n",
       "        features: ['idx', 'sentence', 'label', 'input_ids', 'token_type_ids', 'attention_mask'],\n",
       "        num_rows: 67349\n",
       "    })\n",
       "    validation: Dataset({\n",
       "        features: ['idx', 'sentence', 'label', 'input_ids', 'token_type_ids', 'attention_mask'],\n",
       "        num_rows: 872\n",
       "    })\n",
       "    test: Dataset({\n",
       "        features: ['idx', 'sentence', 'label', 'input_ids', 'token_type_ids', 'attention_mask'],\n",
       "        num_rows: 1821\n",
       "    })\n",
       "})"
      ]
     },
     "execution_count": 3,
     "metadata": {},
     "output_type": "execute_result"
    }
   ],
   "source": [
    "## Load the dataset\n",
    "dataset = load_dataset(\"stanfordnlp/sst2\")\n",
    "\n",
    "## Initialize the tokenizer\n",
    "tokenizer = AutoTokenizer.from_pretrained('bert-base-uncased', clean_up_tokenization_spaces=True)\n",
    "\n",
    "## Apply the tokenizer to the dataset.\n",
    "dataset = dataset.map(lambda x: tokenizer(x['sentence'], truncation=True), batched=True)\n",
    "dataset"
   ]
  },
  {
   "cell_type": "code",
   "execution_count": 4,
   "metadata": {},
   "outputs": [],
   "source": [
    "## Create batch of data using DataCollatorWithPadding\n",
    "data_collator = DataCollatorWithPadding(tokenizer=tokenizer)"
   ]
  },
  {
   "cell_type": "code",
   "execution_count": 5,
   "metadata": {},
   "outputs": [
    {
     "name": "stderr",
     "output_type": "stream",
     "text": [
      "Some weights of BertForSequenceClassification were not initialized from the model checkpoint at bert-base-uncased and are newly initialized: ['classifier.bias', 'classifier.weight']\n",
      "You should probably TRAIN this model on a down-stream task to be able to use it for predictions and inference.\n"
     ]
    },
    {
     "name": "stdout",
     "output_type": "stream",
     "text": [
      "Model Loaded Successfully\n"
     ]
    }
   ],
   "source": [
    "## Create the model.\n",
    "load_from_checkpoint = False\n",
    "\n",
    "if load_from_checkpoint:\n",
    "    model = AutoModelForSequenceClassification.from_pretrained('./results/')\n",
    "    model.to(device)\n",
    "else:\n",
    "    model = AutoModelForSequenceClassification.from_pretrained('bert-base-uncased', num_labels=2)\n",
    "    model.to(device)\n",
    "    \n",
    "print(\"Model Loaded Successfully\")"
   ]
  },
  {
   "cell_type": "markdown",
   "metadata": {},
   "source": [
    "## Train the Model."
   ]
  },
  {
   "cell_type": "code",
   "execution_count": 6,
   "metadata": {},
   "outputs": [],
   "source": [
    "## Create a trainer class.\n",
    "class CustomTrainer(Trainer):\n",
    "    def _inner_training_loop(\n",
    "            self,\n",
    "            batch_size = None, \n",
    "            args = None,\n",
    "            resume_from_checkpoint = None,\n",
    "            trial = None,\n",
    "            ignore_keys_for_eval = None\n",
    "    ):\n",
    "        number_of_epochs = args.num_train_epochs\n",
    "        start_time = time.time()\n",
    "\n",
    "        criterion = torch.nn.CrossEntropyLoss().to(device)\n",
    "        self.optimizer = torch.optim.Adam(model.parameters(), lr=args.learning_rate)\n",
    "        self.scheduler = torch.optim.lr_scheduler.StepLR(self.optimizer, step_size=1, gamma=0.9)\n",
    "\n",
    "        train_dataloader = self.get_train_dataloader()\n",
    "        eval_dataloader = self.get_eval_dataloader()\n",
    "\n",
    "        for epoch in range(number_of_epochs):\n",
    "            train_loss_per_epoch = 0\n",
    "            train_acc_per_epoch = 0\n",
    "            with tqdm(train_dataloader, unit = 'batch') as training_epoch:\n",
    "                training_epoch.set_description(f\"Training Epoch {epoch}\")\n",
    "                for step, inputs in enumerate(training_epoch):\n",
    "                    inputs = inputs.to(device)\n",
    "                    labels = inputs['labels'].to(device)\n",
    "\n",
    "                    ## Forward pass\n",
    "                    self.optimizer.zero_grad()\n",
    "                    model_outputs = model(input_ids=inputs['input_ids'], attention_mask=inputs['attention_mask'])\n",
    "\n",
    "                    ## Compute the loss\n",
    "                    loss = criterion(model_outputs['logits'], labels)\n",
    "                    train_loss_per_epoch += loss.item()\n",
    "\n",
    "                    ## Calculate gradients\n",
    "                    loss.backward()\n",
    "\n",
    "                    ## Update weights\n",
    "                    self.optimizer.step()\n",
    "                    train_accuracy = (model_outputs['logits'].argmax(1) == labels).sum().item()\n",
    "                    train_acc_per_epoch += train_accuracy\n",
    "\n",
    "                    wandb.log({\"Step Training Loss\":loss.item()})\n",
    "\n",
    "            ## Change the learning rate.\n",
    "            self.scheduler.step()\n",
    "\n",
    "            ## Compute the average loss and accuracy over all of the batches.\n",
    "            train_loss_per_epoch /= len(train_dataloader)\n",
    "            train_acc_per_epoch /= (len(train_dataloader) * batch_size)\n",
    "\n",
    "            wandb.log({\"Epoch Train Loss\":train_loss_per_epoch,\n",
    "                        \"Epoch Train Accuracy\":train_acc_per_epoch,\n",
    "                        \"Epoch\":epoch})\n",
    "\n",
    "            ## Run the Model on Evaluation Dataset\n",
    "            eval_loss_per_epoch = 0\n",
    "            eval_acc_per_epoch = 0\n",
    "            with tqdm(eval_dataloader, unit='batch') as eval_epoch:\n",
    "                eval_epoch.set_description(f\"Evaluation Epoch {epoch}\")\n",
    "                with torch.no_grad():\n",
    "                    for step, inputs in enumerate(eval_epoch):\n",
    "                        inputs = inputs.to(device)\n",
    "                        labels = inputs['labels'].to(device)\n",
    "\n",
    "                        ## Foward pass\n",
    "                        model_outputs = model(input_ids=inputs['input_ids'], attention_mask=inputs['attention_mask'])\n",
    "                        \n",
    "                        ## Compute loss\n",
    "                        loss = criterion(model_outputs['logits'], labels)\n",
    "                        eval_loss_per_epoch += loss.item()\n",
    "\n",
    "                        ## Compute accuracy\n",
    "                        eval_accuracy = (model_outputs['logits'].argmax(1) == labels).sum().item()\n",
    "                        eval_acc_per_epoch += eval_accuracy\n",
    "            \n",
    "            eval_loss_per_epoch /= len(eval_dataloader)\n",
    "            eval_acc_per_epoch /= (len(eval_dataloader) * batch_size)\n",
    "\n",
    "            wandb.log({\"Eval Loss\": eval_loss_per_epoch, \n",
    "                        \"Eval Accuracy\": eval_acc_per_epoch,\n",
    "                        \"Epoch\": epoch})\n",
    "\n",
    "            print(f'\\tTrain Loss: {train_loss_per_epoch :.3f} | Train Acc: {train_acc_per_epoch*100:.2f}%')\n",
    "            print(f'\\tEval Loss: {eval_loss_per_epoch :.3f} | Eval Acc: {eval_acc_per_epoch*100:.2f}%')\n",
    "        print(f'Time: {(time.time()-start_time)/60:.3f} minutes ')"
   ]
  },
  {
   "cell_type": "code",
   "execution_count": 7,
   "metadata": {},
   "outputs": [
    {
     "name": "stderr",
     "output_type": "stream",
     "text": [
      "\u001b[34m\u001b[1mwandb\u001b[0m: Currently logged in as: \u001b[33mmohitydv09\u001b[0m (\u001b[33mmohitydv09-university-of-minnesota5275\u001b[0m). Use \u001b[1m`wandb login --relogin`\u001b[0m to force relogin\n"
     ]
    },
    {
     "data": {
      "text/html": [
       "wandb version 0.18.1 is available!  To upgrade, please run:\n",
       " $ pip install wandb --upgrade"
      ],
      "text/plain": [
       "<IPython.core.display.HTML object>"
      ]
     },
     "metadata": {},
     "output_type": "display_data"
    },
    {
     "data": {
      "text/html": [
       "Tracking run with wandb version 0.17.3"
      ],
      "text/plain": [
       "<IPython.core.display.HTML object>"
      ]
     },
     "metadata": {},
     "output_type": "display_data"
    },
    {
     "data": {
      "text/html": [
       "Run data is saved locally in <code>/home/rpmdt05/Code/Mohit/nlp/wandb/run-20240924_183352-jj0q0int</code>"
      ],
      "text/plain": [
       "<IPython.core.display.HTML object>"
      ]
     },
     "metadata": {},
     "output_type": "display_data"
    },
    {
     "data": {
      "text/html": [
       "Syncing run <strong><a href='https://wandb.ai/mohitydv09-university-of-minnesota5275/NPL%20HW2/runs/jj0q0int' target=\"_blank\">Final Run</a></strong> to <a href='https://wandb.ai/mohitydv09-university-of-minnesota5275/NPL%20HW2' target=\"_blank\">Weights & Biases</a> (<a href='https://wandb.me/run' target=\"_blank\">docs</a>)<br/>"
      ],
      "text/plain": [
       "<IPython.core.display.HTML object>"
      ]
     },
     "metadata": {},
     "output_type": "display_data"
    },
    {
     "data": {
      "text/html": [
       " View project at <a href='https://wandb.ai/mohitydv09-university-of-minnesota5275/NPL%20HW2' target=\"_blank\">https://wandb.ai/mohitydv09-university-of-minnesota5275/NPL%20HW2</a>"
      ],
      "text/plain": [
       "<IPython.core.display.HTML object>"
      ]
     },
     "metadata": {},
     "output_type": "display_data"
    },
    {
     "data": {
      "text/html": [
       " View run at <a href='https://wandb.ai/mohitydv09-university-of-minnesota5275/NPL%20HW2/runs/jj0q0int' target=\"_blank\">https://wandb.ai/mohitydv09-university-of-minnesota5275/NPL%20HW2/runs/jj0q0int</a>"
      ],
      "text/plain": [
       "<IPython.core.display.HTML object>"
      ]
     },
     "metadata": {},
     "output_type": "display_data"
    },
    {
     "name": "stderr",
     "output_type": "stream",
     "text": [
      "Training Epoch 0: 100%|██████████| 527/527 [01:33<00:00,  5.64batch/s]\n",
      "Evaluation Epoch 0: 100%|██████████| 7/7 [00:00<00:00, 14.80batch/s]\n"
     ]
    },
    {
     "name": "stdout",
     "output_type": "stream",
     "text": [
      "\tTrain Loss: 0.203 | Train Acc: 92.09%\n",
      "\tEval Loss: 0.222 | Eval Acc: 89.40%\n"
     ]
    },
    {
     "name": "stderr",
     "output_type": "stream",
     "text": [
      "Training Epoch 1: 100%|██████████| 527/527 [01:34<00:00,  5.60batch/s]\n",
      "Evaluation Epoch 1: 100%|██████████| 7/7 [00:00<00:00, 14.77batch/s]\n"
     ]
    },
    {
     "name": "stdout",
     "output_type": "stream",
     "text": [
      "\tTrain Loss: 0.087 | Train Acc: 97.04%\n",
      "\tEval Loss: 0.251 | Eval Acc: 89.06%\n"
     ]
    },
    {
     "name": "stderr",
     "output_type": "stream",
     "text": [
      "Training Epoch 2: 100%|██████████| 527/527 [01:34<00:00,  5.60batch/s]\n",
      "Evaluation Epoch 2: 100%|██████████| 7/7 [00:00<00:00, 14.76batch/s]\n"
     ]
    },
    {
     "name": "stdout",
     "output_type": "stream",
     "text": [
      "\tTrain Loss: 0.049 | Train Acc: 98.23%\n",
      "\tEval Loss: 0.238 | Eval Acc: 89.29%\n"
     ]
    },
    {
     "name": "stderr",
     "output_type": "stream",
     "text": [
      "Training Epoch 3: 100%|██████████| 527/527 [01:34<00:00,  5.59batch/s]\n",
      "Evaluation Epoch 3: 100%|██████████| 7/7 [00:00<00:00, 14.77batch/s]\n"
     ]
    },
    {
     "name": "stdout",
     "output_type": "stream",
     "text": [
      "\tTrain Loss: 0.028 | Train Acc: 98.94%\n",
      "\tEval Loss: 0.237 | Eval Acc: 89.62%\n"
     ]
    },
    {
     "name": "stderr",
     "output_type": "stream",
     "text": [
      "Training Epoch 4: 100%|██████████| 527/527 [01:34<00:00,  5.58batch/s]\n",
      "Evaluation Epoch 4: 100%|██████████| 7/7 [00:00<00:00, 14.75batch/s]\n"
     ]
    },
    {
     "name": "stdout",
     "output_type": "stream",
     "text": [
      "\tTrain Loss: 0.018 | Train Acc: 99.22%\n",
      "\tEval Loss: 0.335 | Eval Acc: 89.62%\n"
     ]
    },
    {
     "name": "stderr",
     "output_type": "stream",
     "text": [
      "Training Epoch 5: 100%|██████████| 527/527 [01:34<00:00,  5.58batch/s]\n",
      "Evaluation Epoch 5: 100%|██████████| 7/7 [00:00<00:00, 14.14batch/s]\n"
     ]
    },
    {
     "name": "stdout",
     "output_type": "stream",
     "text": [
      "\tTrain Loss: 0.011 | Train Acc: 99.48%\n",
      "\tEval Loss: 0.362 | Eval Acc: 88.84%\n"
     ]
    },
    {
     "name": "stderr",
     "output_type": "stream",
     "text": [
      "Training Epoch 6: 100%|██████████| 527/527 [01:34<00:00,  5.58batch/s]\n",
      "Evaluation Epoch 6: 100%|██████████| 7/7 [00:00<00:00, 14.75batch/s]\n"
     ]
    },
    {
     "name": "stdout",
     "output_type": "stream",
     "text": [
      "\tTrain Loss: 0.007 | Train Acc: 99.60%\n",
      "\tEval Loss: 0.347 | Eval Acc: 89.51%\n"
     ]
    },
    {
     "name": "stderr",
     "output_type": "stream",
     "text": [
      "Training Epoch 7: 100%|██████████| 527/527 [01:34<00:00,  5.57batch/s]\n",
      "Evaluation Epoch 7: 100%|██████████| 7/7 [00:00<00:00, 14.72batch/s]\n"
     ]
    },
    {
     "name": "stdout",
     "output_type": "stream",
     "text": [
      "\tTrain Loss: 0.006 | Train Acc: 99.65%\n",
      "\tEval Loss: 0.407 | Eval Acc: 89.29%\n"
     ]
    },
    {
     "name": "stderr",
     "output_type": "stream",
     "text": [
      "Training Epoch 8: 100%|██████████| 527/527 [01:34<00:00,  5.57batch/s]\n",
      "Evaluation Epoch 8: 100%|██████████| 7/7 [00:00<00:00, 14.75batch/s]\n"
     ]
    },
    {
     "name": "stdout",
     "output_type": "stream",
     "text": [
      "\tTrain Loss: 0.008 | Train Acc: 99.60%\n",
      "\tEval Loss: 0.430 | Eval Acc: 89.06%\n"
     ]
    },
    {
     "name": "stderr",
     "output_type": "stream",
     "text": [
      "Training Epoch 9: 100%|██████████| 527/527 [01:34<00:00,  5.60batch/s]\n",
      "Evaluation Epoch 9: 100%|██████████| 7/7 [00:00<00:00, 14.67batch/s]\n"
     ]
    },
    {
     "name": "stdout",
     "output_type": "stream",
     "text": [
      "\tTrain Loss: 0.004 | Train Acc: 99.73%\n",
      "\tEval Loss: 0.435 | Eval Acc: 89.17%\n",
      "Time: 15.792 minutes \n"
     ]
    },
    {
     "data": {
      "application/vnd.jupyter.widget-view+json": {
       "model_id": "ba7e96fefa064e4aba615d8e6f2f4fff",
       "version_major": 2,
       "version_minor": 0
      },
      "text/plain": [
       "VBox(children=(Label(value='0.004 MB of 0.004 MB uploaded\\r'), FloatProgress(value=1.0, max=1.0)))"
      ]
     },
     "metadata": {},
     "output_type": "display_data"
    },
    {
     "data": {
      "text/html": [
       "<style>\n",
       "    table.wandb td:nth-child(1) { padding: 0 10px; text-align: left ; width: auto;} td:nth-child(2) {text-align: left ; width: 100%}\n",
       "    .wandb-row { display: flex; flex-direction: row; flex-wrap: wrap; justify-content: flex-start; width: 100% }\n",
       "    .wandb-col { display: flex; flex-direction: column; flex-basis: 100%; flex: 1; padding: 10px; }\n",
       "    </style>\n",
       "<div class=\"wandb-row\"><div class=\"wandb-col\"><h3>Run history:</h3><br/><table class=\"wandb\"><tr><td>Epoch</td><td>▁▁▂▂▃▃▃▃▄▄▅▅▆▆▆▆▇▇██</td></tr><tr><td>Epoch Train Accuracy</td><td>▁▆▇▇██████</td></tr><tr><td>Epoch Train Loss</td><td>█▄▃▂▁▁▁▁▁▁</td></tr><tr><td>Eval Accuracy</td><td>▆▃▅██▁▇▅▃▄</td></tr><tr><td>Eval Loss</td><td>▁▂▂▁▅▆▅▇██</td></tr><tr><td>Step Training Loss</td><td>█▅▆▅▄▃▆▂▁▂▃▂▁▂▁▁▁▁▂▁▁▁▁▂▁▁▁▁▁▁▁▁▂▁▁▁▁▁▁▁</td></tr></table><br/></div><div class=\"wandb-col\"><h3>Run summary:</h3><br/><table class=\"wandb\"><tr><td>Epoch</td><td>9</td></tr><tr><td>Epoch Train Accuracy</td><td>0.99726</td></tr><tr><td>Epoch Train Loss</td><td>0.00373</td></tr><tr><td>Eval Accuracy</td><td>0.89174</td></tr><tr><td>Eval Loss</td><td>0.43467</td></tr><tr><td>Step Training Loss</td><td>0.00047</td></tr></table><br/></div></div>"
      ],
      "text/plain": [
       "<IPython.core.display.HTML object>"
      ]
     },
     "metadata": {},
     "output_type": "display_data"
    },
    {
     "data": {
      "text/html": [
       " View run <strong style=\"color:#cdcd00\">Final Run</strong> at: <a href='https://wandb.ai/mohitydv09-university-of-minnesota5275/NPL%20HW2/runs/jj0q0int' target=\"_blank\">https://wandb.ai/mohitydv09-university-of-minnesota5275/NPL%20HW2/runs/jj0q0int</a><br/> View project at: <a href='https://wandb.ai/mohitydv09-university-of-minnesota5275/NPL%20HW2' target=\"_blank\">https://wandb.ai/mohitydv09-university-of-minnesota5275/NPL%20HW2</a><br/>Synced 6 W&B file(s), 0 media file(s), 0 artifact file(s) and 0 other file(s)"
      ],
      "text/plain": [
       "<IPython.core.display.HTML object>"
      ]
     },
     "metadata": {},
     "output_type": "display_data"
    },
    {
     "data": {
      "text/html": [
       "Find logs at: <code>./wandb/run-20240924_183352-jj0q0int/logs</code>"
      ],
      "text/plain": [
       "<IPython.core.display.HTML object>"
      ]
     },
     "metadata": {},
     "output_type": "display_data"
    },
    {
     "data": {
      "text/html": [
       "The new W&B backend becomes opt-out in version 0.18.0; try it out with `wandb.require(\"core\")`! See https://wandb.me/wandb-core for more information."
      ],
      "text/plain": [
       "<IPython.core.display.HTML object>"
      ]
     },
     "metadata": {},
     "output_type": "display_data"
    }
   ],
   "source": [
    "## Set wandb parallelist to false.\n",
    "import os\n",
    "os.environ['TOKENIZERS_PARALLELISM'] = 'false'\n",
    "os.environ['WANDB_NOTEBOOK_NAME'] = 'hw2.ipynb'\n",
    "\n",
    "## WandB setup to get plots and metrics.\n",
    "config = dict(\n",
    "    epochs = 10,\n",
    "    classes = 2,\n",
    "    batch_size = 128,\n",
    "    learning_rate = 2e-5,\n",
    "    dataset = 'sst2',\n",
    "    architecture = 'bert'\n",
    ")\n",
    "\n",
    "## Setting up Training Pipeline inside WandB.\n",
    "if not load_from_checkpoint:\n",
    "    with wandb.init(project='NPL HW2', name='Final Run', config=config):\n",
    "\n",
    "        ## Define Training Arguments.\n",
    "        training_args = TrainingArguments(\n",
    "            output_dir='./results',\n",
    "            learning_rate=wandb.config.learning_rate,\n",
    "            num_train_epochs=wandb.config.epochs,\n",
    "            per_device_train_batch_size=wandb.config.batch_size,\n",
    "            per_device_eval_batch_size=wandb.config.batch_size\n",
    "        )\n",
    "\n",
    "        ## Initialize the trainer\n",
    "        trainer = CustomTrainer(\n",
    "            model=model,\n",
    "            args = training_args,\n",
    "            train_dataset=dataset['train'],\n",
    "            eval_dataset=dataset['validation'],\n",
    "            tokenizer=tokenizer,\n",
    "            data_collator=data_collator,\n",
    "        )\n",
    "\n",
    "        ## Train the model\n",
    "        trainer.train()\n",
    "\n",
    "        ## Save the Model.\n",
    "        model.save_pretrained('./results/')"
   ]
  },
  {
   "cell_type": "code",
   "execution_count": 52,
   "metadata": {},
   "outputs": [
    {
     "name": "stderr",
     "output_type": "stream",
     "text": [
      "/tmp/ipykernel_3861369/3355771957.py:28: FutureWarning: The behavior of DataFrame concatenation with empty or all-NA entries is deprecated. In a future version, this will no longer exclude empty or all-NA columns when determining the result dtypes. To retain the old behavior, exclude the relevant entries before the concat operation.\n",
      "  incorrect_pred_df = pd.concat([incorrect_pred_df, pd.DataFrame([new_row])], ignore_index=True)\n"
     ]
    }
   ],
   "source": [
    "## Get Test accuracy and wrong items\n",
    "import pandas as pd\n",
    "from torch.utils.data import DataLoader\n",
    "\n",
    "incorrect_pred_df = pd.DataFrame(columns=['text', 'ground truth', 'prediction','confidence score', \n",
    "                                          'chatGPT prediction', 'error type','error cause','potential solution'])\n",
    "\n",
    "## Validation set is used here as the test data in the dataset doesn't have labels so we won't be able to calculate accuracy by code.\n",
    "test_dataset = dataset['validation'].remove_columns(['sentence','token_type_ids' ])\n",
    "test_dataloader = DataLoader(test_dataset, batch_size=32, shuffle=True, collate_fn=data_collator)\n",
    "\n",
    "model.eval()\n",
    "with torch.no_grad():\n",
    "    for batch in test_dataloader:\n",
    "        batch = batch.to(device)\n",
    "\n",
    "        predictions = model(input_ids=batch['input_ids'], attention_mask=batch['attention_mask'])\n",
    "\n",
    "        # print(len(predictions['logits']))\n",
    "        for prediction, label, idx in zip(predictions['logits'],batch['labels'], batch['idx']):\n",
    "            if(prediction.argmax() != label):\n",
    "                new_row = {'text':dataset['validation']['sentence'][idx],\n",
    "                           'ground truth':label.item(),\n",
    "                           'prediction':prediction.argmax().item(),\n",
    "                           'confidence score': torch.nn.functional.softmax(prediction, dim=-1).max().item(),\n",
    "                           'error type': 'false positive' if (label.item() == 0) else 'false negetive'\n",
    "                           }\n",
    "                incorrect_pred_df = pd.concat([incorrect_pred_df, pd.DataFrame([new_row])], ignore_index=True)\n",
    "        if len(incorrect_pred_df) > 10:\n",
    "            break\n",
    "# ## Save the file as a csv.\n",
    "# incorrect_pred_df.to_csv('incorrect_predictions.csv', index=False)"
   ]
  },
  {
   "cell_type": "code",
   "execution_count": 123,
   "metadata": {},
   "outputs": [
    {
     "name": "stdout",
     "output_type": "stream",
     "text": [
      "Prediction from Model for the text 'I love the Natural Language Processing course.':  Positive\n",
      "Time taken for prediction: 16.80 milliseconds\n"
     ]
    }
   ],
   "source": [
    "### Inference on single text\n",
    "def predict(text):\n",
    "    start_time = time.time()\n",
    "    inputs = tokenizer(text, return_tensors='pt').to(device)\n",
    "    model_output = model(**inputs)\n",
    "    prediction = model_output['logits'].argmax().item()\n",
    "    return \"Positive\" if prediction == 1 else \"Negative\", time.time()-start_time\n",
    "\n",
    "prompt = \"I love the Natural Language Processing course.\"\n",
    "prediction, time_taken = predict(prompt)\n",
    "print(f\"Prediction from Model for the text '{prompt}': \", prediction)\n",
    "print(f\"Time taken for prediction: {time_taken*1000:.2f} milliseconds\")"
   ]
  },
  {
   "cell_type": "markdown",
   "metadata": {},
   "source": [
    "### Below didn't work as I didn't get free tokes from OpenAI."
   ]
  },
  {
   "cell_type": "code",
   "execution_count": 11,
   "metadata": {},
   "outputs": [],
   "source": [
    "### Get ChatGPT responces on the data.\n",
    "from openai import OpenAI\n",
    "from openAIkey import OPENAI_API_KEY\n",
    "\n",
    "client = OpenAI(api_key=OPENAI_API_KEY)\n",
    "\n",
    "def get_chatgpt_responce(text):\n",
    "    prompt = f'Classify the sentiment of the following text as 0 for negative or 1 for positive: {text}'\n",
    "\n",
    "    responce = client.chat.completions.create(\n",
    "        model = 'gpt-3.5-turbo',\n",
    "        messages = [\n",
    "            {\n",
    "                'role': 'user',\n",
    "                'content': prompt\n",
    "            }\n",
    "        ]\n",
    "    )\n",
    "    return responce.choices[0].message['content']\n",
    "\n",
    "\n",
    "# print(get_chatgpt_responce('that loves its characters and communicates something rather beautiful about human nature'))"
   ]
  },
  {
   "cell_type": "markdown",
   "metadata": {},
   "source": [
    "## Visualizing error"
   ]
  },
  {
   "cell_type": "code",
   "execution_count": 118,
   "metadata": {},
   "outputs": [],
   "source": [
    "## Get the predictions\n",
    "from torch.utils.data import DataLoader\n",
    "\n",
    "test_dataset = dataset['validation'].remove_columns(['sentence','token_type_ids' ])\n",
    "test_dataloader = DataLoader(test_dataset, batch_size=32, shuffle=True, collate_fn=data_collator)\n",
    "\n",
    "correct_positive_predictions = torch.empty((0,768))\n",
    "correct_positive_predictions_confidence = []\n",
    "correct_negative_predictions = torch.empty((0,768))\n",
    "correct_negative_predictions_confidence = []\n",
    "incorrect_predictions = torch.empty((0,768))\n",
    "incorrect_predictions_confidence = []\n",
    "\n",
    "model.eval()\n",
    "with torch.no_grad():\n",
    "    for batch in test_dataloader:\n",
    "        batch = batch.to(device)\n",
    "\n",
    "        predictions = model(input_ids=batch['input_ids'], attention_mask=batch['attention_mask'], output_hidden_states=True)\n",
    "        for prediction, label, hidden_value in zip(predictions['logits'],batch['labels'], predictions['hidden_states'][-1]):\n",
    "            # hidden_value_mean = hidden_value.mean(dim=0).unsqueeze(0).to('cpu') ### Using the first layer values as instructed by TA.\n",
    "            hidden_value_first_layer = hidden_value[0].unsqueeze(0).to('cpu')\n",
    "            confidence = torch.nn.functional.softmax(prediction, dim=-1).max().item()\n",
    "            if(prediction.argmax() != label):\n",
    "                incorrect_predictions = torch.cat((incorrect_predictions, hidden_value_first_layer), 0)\n",
    "                incorrect_predictions_confidence.append(confidence)\n",
    "            else:\n",
    "                if label == 0:\n",
    "                    correct_negative_predictions = torch.cat((correct_negative_predictions, hidden_value_first_layer), 0)\n",
    "                    correct_negative_predictions_confidence.append(confidence)\n",
    "                else:\n",
    "                    correct_positive_predictions = torch.cat((correct_positive_predictions, hidden_value_first_layer), 0)\n",
    "                    correct_positive_predictions_confidence.append(confidence)"
   ]
  },
  {
   "cell_type": "code",
   "execution_count": 119,
   "metadata": {},
   "outputs": [],
   "source": [
    "## Normalize the predictions\n",
    "normalized_correct_positive_predictions = torch.nn.functional.normalize(correct_positive_predictions, p=2, dim=1)\n",
    "normalized_correct_negative_predictions = torch.nn.functional.normalize(correct_negative_predictions, p=2, dim=1)\n",
    "normalized_incorrect_predictions = torch.nn.functional.normalize(incorrect_predictions, p=2, dim=1)"
   ]
  },
  {
   "cell_type": "code",
   "execution_count": 120,
   "metadata": {},
   "outputs": [],
   "source": [
    "## Implement PCA\n",
    "from sklearn.decomposition import PCA\n",
    "\n",
    "pca = PCA(n_components=2)\n",
    "\n",
    "combined_data = torch.cat((normalized_correct_positive_predictions, normalized_correct_negative_predictions, normalized_incorrect_predictions), 0)\n",
    "pca.fit(combined_data)\n",
    "\n",
    "## Map the data from 768 to 2 dimensions\n",
    "transformed_correct_positive_predictions = pca.transform(normalized_correct_positive_predictions)\n",
    "transformed_correct_negative_predictions = pca.transform(normalized_correct_negative_predictions)\n",
    "transformed_incorrect_predictions = pca.transform(normalized_incorrect_predictions)"
   ]
  },
  {
   "cell_type": "code",
   "execution_count": 122,
   "metadata": {},
   "outputs": [
    {
     "data": {
      "image/png": "[encoded data removed]",
      "text/plain": [
       "<Figure size 640x480 with 1 Axes>"
      ]
     },
     "metadata": {},
     "output_type": "display_data"
    }
   ],
   "source": [
    "## Plot the data\n",
    "import matplotlib.pyplot as plt\n",
    "\n",
    "plt.scatter(transformed_correct_positive_predictions[:,0], \n",
    "            transformed_correct_positive_predictions[:,1], \n",
    "            label='Correct Positive Predictions', \n",
    "            color='red', \n",
    "            alpha=correct_positive_predictions_confidence)\n",
    "plt.scatter(transformed_correct_negative_predictions[:,0], \n",
    "            transformed_correct_negative_predictions[:,1], \n",
    "            label='Correct Negative Predictions', \n",
    "            color='blue', \n",
    "            alpha=correct_negative_predictions_confidence)\n",
    "plt.scatter(transformed_incorrect_predictions[:,0], \n",
    "            transformed_incorrect_predictions[:,1], \n",
    "            label='Incorrect Predictions', \n",
    "            color='black', \n",
    "            alpha=incorrect_predictions_confidence)\n",
    "plt.legend()\n",
    "plt.title('PCA of Hidden States of BERT')\n",
    "plt.xlabel('PCA Component 1')\n",
    "plt.ylabel('PCA Component 2')\n",
    "plt.show()"
   ]
  }
 ],
 "metadata": {
  "kernelspec": {
   "display_name": "mohit-nlp",
   "language": "python",
   "name": "python3"
  },
  "language_info": {
   "codemirror_mode": {
    "name": "ipython",
    "version": 3
   },
   "file_extension": ".py",
   "mimetype": "text/x-python",
   "name": "python",
   "nbconvert_exporter": "python",
   "pygments_lexer": "ipython3",
   "version": "3.12.5"
  }
 },
 "nbformat": 4,
 "nbformat_minor": 2
}
